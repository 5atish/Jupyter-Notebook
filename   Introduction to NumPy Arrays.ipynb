{
 "cells": [
  {
   "cell_type": "markdown",
   "metadata": {},
   "source": [
    "# NumPy N-dimensional Array\n",
    "\n",
    "    # NumPy N-dimensional Array\n",
    "\n",
    "NumPy is the ndarray, which is a shorthand name for N-dimensional array. When working with NumPy, data in an ndarray is simply referred to as an array. It is a fixed-sized array in memory that contains data of the same type, such as integers or floating point values.\n",
    "The data type supported by an array can be accessed via the dtype attribute.\n",
    "The dimensions of an array can be accessed via the shape attribute.\n",
    "A simple way to create an array from data or simple Python data structures is to use the array() function."
   ]
  },
  {
   "cell_type": "code",
   "execution_count": 8,
   "metadata": {},
   "outputs": [],
   "source": [
    "from numpy import array\n",
    "l = [[1.0, 3.5, 5.4], [2.0, 5.0, 6.0]]\n",
    "a = array(l)"
   ]
  },
  {
   "cell_type": "code",
   "execution_count": 9,
   "metadata": {},
   "outputs": [
    {
     "name": "stdout",
     "output_type": "stream",
     "text": [
      "[[1.  3.5 5.4]\n",
      " [2.  5.  6. ]]\n",
      "(2, 3)\n",
      "float64\n"
     ]
    }
   ],
   "source": [
    "print(a)\n",
    "print(a.shape)\n",
    "print(a.dtype)"
   ]
  },
  {
   "cell_type": "code",
   "execution_count": null,
   "metadata": {},
   "outputs": [],
   "source": [
    "# Functions to Create Arrays\n",
    "\n",
    "The empty() function will create a new array of the specified shape. The argument to the \n",
    "function is an array or tuple that specifies the length of each dimension of the array to \n",
    "create. The values or content of the created array will be random.\n",
    "\n",
    "The zeros() function will create a new array of the specified size with the contents filled \n",
    "with zero values. The argument to the function is an array or tuple that specifies the length \n",
    "of each dimension of the array to create. \n",
    "\n",
    "The ones() function will create a new array of the specified size with the contents filled with\n",
    "one values. The argument to the function is an array or tuple that specifies the length of each\n",
    "dimension of the array to create"
   ]
  },
  {
   "cell_type": "code",
   "execution_count": 7,
   "metadata": {},
   "outputs": [
    {
     "name": "stdout",
     "output_type": "stream",
     "text": [
      "[[1. 1.]\n",
      " [1. 1.]\n",
      " [1. 1.]\n",
      " [1. 1.]\n",
      " [1. 1.]]\n"
     ]
    }
   ],
   "source": [
    "from numpy import zeros \n",
    "from numpy import empty\n",
    "from numpy import ones\n",
    "a = empty([3,3])\n",
    "b = zeros([3,5])\n",
    "c = ones([5,2])\n",
    "print(c)"
   ]
  },
  {
   "cell_type": "markdown",
   "metadata": {},
   "source": [
    "# Functions to Create Arrays\n",
    "\n",
    "Vertical Stack\n",
    "Given two or more existing arrays, you can stack them vertically using the vstack() function.\n",
    "\n",
    "Horizontal Stack\n",
    "Given two or more existing arrays, you can stack them horizontally using the hstack() function."
   ]
  },
  {
   "cell_type": "code",
   "execution_count": 9,
   "metadata": {},
   "outputs": [
    {
     "name": "stdout",
     "output_type": "stream",
     "text": [
      "[1 2 3 4 5 6]\n",
      "(6,)\n"
     ]
    }
   ],
   "source": [
    "from numpy import array\n",
    "from numpy import vstack\n",
    "from numpy import hstack\n",
    "a1 = array([1,2,3])\n",
    "a2 = array([4,5,6])\n",
    "a3 = vstack((a1,a2))\n",
    "a4 = hstack((a1,a2))\n",
    "print(a4)\n",
    "print(a4.shape)"
   ]
  },
  {
   "cell_type": "markdown",
   "metadata": {},
   "source": [
    "# Index, Slice and Reshape NumPy Arrays\n",
    "\n",
    "5.2 From List to Arrays\n",
    "\n",
    "5.2.1 One-Dimensional List to Array\n",
    "\n",
    "5.2.2 Two-Dimensional List of Lists to Array\n"
   ]
  },
  {
   "cell_type": "code",
   "execution_count": 2,
   "metadata": {},
   "outputs": [
    {
     "name": "stdout",
     "output_type": "stream",
     "text": [
      "(3, 2, 1) [[[11]\n",
      "  [22]]\n",
      "\n",
      " [[33]\n",
      "  [44]]\n",
      "\n",
      " [[55]\n",
      "  [66]]]\n"
     ]
    }
   ],
   "source": [
    "from numpy import array\n",
    "\n",
    "#################One-Dimensional List to Array#######################\n",
    "d1 = array([11, 22, 33, 44, 55])\n",
    "d2 = array([[11, 22],[33, 44],[55, 66]])\n",
    "#print(type(d2))\n",
    "#print(d2[0,1])\n",
    "#print(d1[3:])\n",
    "#print(d1[0])\n",
    "\n",
    "#################Two-Dimensional List to Array#######################\n",
    "data = [[11, 22, 33], \n",
    "        [44, 55, 66], \n",
    "        [77, 88, 99]]\n",
    "data = array(data)    \n",
    "#print(data[0:2,1:3]) #Slicing of matrix data id (From row: to row , from column to column)\n",
    "\n",
    "data1 = array([[11, 22, 33],\n",
    "[44, 55, 66],\n",
    "[77, 88, 99]])\n",
    "split = 2\n",
    "train, test = data1[:split,:], data1[split:,:]\n",
    "#print(train)\n",
    "#print(d1.shape)\n",
    "\n",
    "d1 = d1.reshape((d1.shape[0],1))\n",
    "#print(d1.shape[0])\n",
    "#print(d1, d1.shape)\n",
    "\n",
    "data2 = array([[11, 22],[33, 44],[55, 66]])\n",
    "data2 = data2.reshape((data2.shape[0],data2.shape[1],1))\n",
    "#print(data2.shape[1])\n",
    "print(data2.shape, data2)"
   ]
  },
  {
   "cell_type": "code",
   "execution_count": null,
   "metadata": {},
   "outputs": [],
   "source": [
    "# 6 NumPy Array Broadcasting\n",
    "\n",
    "Broadcasting  method that uses NumPy and allow array arithmetic between arrays with a difierent\n",
    "shape or size. Broadcasting solves the problem of arithmetic between arrays of differing shapes \n",
    "by in effect replicating the smaller array along the last mismatched dimension.\n",
    "Numpy makes memory and computationally eficient use of existing structures in memory that in \n",
    "effect achieve the same result.\n",
    "\n",
    "6.4.1 Scalar and One-Dimensional Array\n",
    "6.4.3 One-Dimensional and Two-Dimensional Arrays\n",
    "\n",
    "6.5 Limitations of Broadcasting\n",
    "\n",
    "broadcasting, can only be performed when the shape of each dimension in the arrays are equal \n",
    "or one has the dimension size of 1."
   ]
  },
  {
   "cell_type": "code",
   "execution_count": 5,
   "metadata": {},
   "outputs": [
    {
     "ename": "ValueError",
     "evalue": "operands could not be broadcast together with shapes (2,3) (4,) ",
     "output_type": "error",
     "traceback": [
      "\u001b[1;31m---------------------------------------------------------------------------\u001b[0m",
      "\u001b[1;31mValueError\u001b[0m                                Traceback (most recent call last)",
      "\u001b[1;32m<ipython-input-5-aa2348a3a2a7>\u001b[0m in \u001b[0;36m<module>\u001b[1;34m()\u001b[0m\n\u001b[0;32m     11\u001b[0m \u001b[1;33m\u001b[0m\u001b[0m\n\u001b[0;32m     12\u001b[0m \u001b[0mb1\u001b[0m \u001b[1;33m=\u001b[0m \u001b[0marray\u001b[0m\u001b[1;33m(\u001b[0m\u001b[1;33m[\u001b[0m\u001b[1;36m5\u001b[0m\u001b[1;33m,\u001b[0m \u001b[1;36m6\u001b[0m\u001b[1;33m,\u001b[0m \u001b[1;36m2\u001b[0m\u001b[1;33m,\u001b[0m \u001b[1;36m6\u001b[0m\u001b[1;33m]\u001b[0m\u001b[1;33m)\u001b[0m\u001b[1;33m\u001b[0m\u001b[0m\n\u001b[1;32m---> 13\u001b[1;33m \u001b[0mprint\u001b[0m\u001b[1;33m(\u001b[0m\u001b[0mA\u001b[0m\u001b[1;33m+\u001b[0m\u001b[0mb1\u001b[0m\u001b[1;33m)\u001b[0m \u001b[1;31m#ValueError: operands could not be broadcast together with shapes (2,3) (2,)\u001b[0m\u001b[1;33m\u001b[0m\u001b[0m\n\u001b[0m",
      "\u001b[1;31mValueError\u001b[0m: operands could not be broadcast together with shapes (2,3) (4,) "
     ]
    }
   ],
   "source": [
    "# Scalar and One-Dimensional Array\n",
    "from numpy import array\n",
    "a = array([1,2,3])\n",
    "b = 2\n",
    "#print(a+b)\n",
    "\n",
    "#One-Dimensional and Two-Dimensional Arrays\n",
    "A = array([[1, 2, 3],[11, 22, 33]])\n",
    "b = array([5, 6, 7])\n",
    "print(A+b)\n",
    "\n",
    "b1 = array([5, 6, 2, 6])\n",
    "#print(A+b1) #ValueError: operands could not be broadcast together with shapes (2,3) (2,)"
   ]
  }
 ],
 "metadata": {
  "kernelspec": {
   "display_name": "Python 3",
   "language": "python",
   "name": "python3"
  },
  "language_info": {
   "codemirror_mode": {
    "name": "ipython",
    "version": 3
   },
   "file_extension": ".py",
   "mimetype": "text/x-python",
   "name": "python",
   "nbconvert_exporter": "python",
   "pygments_lexer": "ipython3",
   "version": "3.6.5"
  }
 },
 "nbformat": 4,
 "nbformat_minor": 2
}
